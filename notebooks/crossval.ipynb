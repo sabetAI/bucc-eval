{
 "cells": [
  {
   "cell_type": "code",
   "execution_count": 239,
   "metadata": {},
   "outputs": [],
   "source": [
    "import pickle\n",
    "import torch"
   ]
  },
  {
   "cell_type": "code",
   "execution_count": 240,
   "metadata": {},
   "outputs": [],
   "source": [
    "def readgold(path):\n",
    "    pairs = open(path, 'r').readlines()\n",
    "    pairs = [[int(p) for p in ps.split('\\t')] for ps in pairs]\n",
    "    return torch.LongTensor(pairs)"
   ]
  },
  {
   "cell_type": "code",
   "execution_count": 241,
   "metadata": {},
   "outputs": [],
   "source": [
    "def maxfp_heuristic(scores, preds, gold):\n",
    "    tp_first_score = scores[gold[:,0],0][preds[gold[:,0],0] == gold[:,1]]\n",
    "    tp_second_score = scores[gold[:,0],1][preds[gold[:,0],0] == gold[:,1]]\n",
    "    fp_second_score = scores[gold[:,0],1][preds[gold[:,0],0] != gold[:,1]]\n",
    "    fp_first_score = scores[gold[:,0],0][preds[gold[:,0],0] != gold[:,1]]\n",
    "    tp_diff = tp_first_score - tp_second_score\n",
    "    fp_diff = fp_first_score - fp_second_score\n",
    "    thresh = max(fp_diff)\n",
    "    return thresh"
   ]
  },
  {
   "cell_type": "code",
   "execution_count": 261,
   "metadata": {},
   "outputs": [],
   "source": [
    "def f1score(scores, preds, gold, thresh):\n",
    "    diff = scores[:,0] - scores[:,1]\n",
    "    predictions = -torch.ones(len(preds)).long()\n",
    "    predictions[diff > thresh] = preds[diff > thresh,0]\n",
    "    gt = -torch.ones(len(preds)).long()\n",
    "    gt[gold[:,0]] = gold[:,1]\n",
    "    precision = (predictions == gt).float().mean()\n",
    "    tp = (predictions[gold[:,0]] != -1).sum()\n",
    "    fp = (predictions[gold[:,0]] == -1).sum()\n",
    "    recall = tp.float()/(tp+fp)\n",
    "    f1 = 2*precision*recall/(precision+recall)\n",
    "    return precision, recall, f1\n",
    "\n",
    "def print_performance(scores, preds, gold, usethresh):\n",
    "    if usethresh:\n",
    "        prec, rec, f1 = f1score(scores, preds, gold, usethresh)\n",
    "        print(\"thresh: %.2f, precision: %.2f, recall: %.2f, f1: %.2f\" %(usethresh, prec, rec, f1))\n",
    "        return\n",
    "    for thr in torch.arange(0,0.2,0.01):\n",
    "        prec, rec, f1 = f1score(scores, preds, gold, thr.item())\n",
    "        print(\"thresh: %.2f, precision: %.2f, recall: %.2f, f1: %.2f\" %(thr.item(), prec, rec, f1))\n"
   ]
  },
  {
   "cell_type": "code",
   "execution_count": 262,
   "metadata": {},
   "outputs": [],
   "source": [
    "goldfile = 'bucc2018.fr-en.training.gold'\n",
    "predfile = 'fr-en.training.scores'\n",
    "gold = readgold(goldfile)\n",
    "scores, preds = pickle.load(open(predfile, 'rb'))\n",
    "scores, preds = scores.squeeze(), preds.squeeze()"
   ]
  },
  {
   "cell_type": "code",
   "execution_count": 263,
   "metadata": {},
   "outputs": [
    {
     "name": "stdout",
     "output_type": "stream",
     "text": [
      "thresh: 0.00, precision: 0.03, recall: 1.00, f1: 0.07\n",
      "thresh: 0.01, precision: 0.47, recall: 0.93, f1: 0.63\n",
      "thresh: 0.02, precision: 0.72, recall: 0.88, f1: 0.79\n",
      "thresh: 0.03, precision: 0.84, recall: 0.85, f1: 0.84\n",
      "thresh: 0.04, precision: 0.91, recall: 0.81, f1: 0.86\n",
      "thresh: 0.05, precision: 0.95, recall: 0.77, f1: 0.85\n",
      "thresh: 0.06, precision: 0.97, recall: 0.73, f1: 0.83\n",
      "thresh: 0.07, precision: 0.97, recall: 0.69, f1: 0.81\n",
      "thresh: 0.08, precision: 0.98, recall: 0.65, f1: 0.78\n",
      "thresh: 0.09, precision: 0.98, recall: 0.60, f1: 0.74\n",
      "thresh: 0.10, precision: 0.98, recall: 0.54, f1: 0.70\n",
      "thresh: 0.11, precision: 0.98, recall: 0.48, f1: 0.65\n",
      "thresh: 0.12, precision: 0.98, recall: 0.43, f1: 0.59\n",
      "thresh: 0.13, precision: 0.98, recall: 0.37, f1: 0.54\n",
      "thresh: 0.14, precision: 0.98, recall: 0.32, f1: 0.48\n",
      "thresh: 0.15, precision: 0.97, recall: 0.27, f1: 0.42\n",
      "thresh: 0.16, precision: 0.97, recall: 0.22, f1: 0.36\n",
      "thresh: 0.17, precision: 0.97, recall: 0.18, f1: 0.31\n",
      "thresh: 0.18, precision: 0.97, recall: 0.15, f1: 0.25\n",
      "thresh: 0.19, precision: 0.97, recall: 0.11, f1: 0.20\n"
     ]
    }
   ],
   "source": [
    "print_performance(scores, preds, gold, None)"
   ]
  },
  {
   "cell_type": "markdown",
   "metadata": {},
   "source": [
    "thresh = .06"
   ]
  },
  {
   "cell_type": "code",
   "execution_count": 264,
   "metadata": {},
   "outputs": [
    {
     "name": "stdout",
     "output_type": "stream",
     "text": [
      "thresh: 0.06, precision: 0.97, recall: 0.73, f1: 0.83\n"
     ]
    }
   ],
   "source": [
    "print_performance(scores, preds, gold, 0.06)"
   ]
  },
  {
   "cell_type": "code",
   "execution_count": null,
   "metadata": {},
   "outputs": [],
   "source": []
  }
 ],
 "metadata": {
  "kernelspec": {
   "display_name": "Python 3",
   "language": "python",
   "name": "python3"
  },
  "language_info": {
   "codemirror_mode": {
    "name": "ipython",
    "version": 3
   },
   "file_extension": ".py",
   "mimetype": "text/x-python",
   "name": "python",
   "nbconvert_exporter": "python",
   "pygments_lexer": "ipython3",
   "version": "3.6.9"
  }
 },
 "nbformat": 4,
 "nbformat_minor": 2
}
