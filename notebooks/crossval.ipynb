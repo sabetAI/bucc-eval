{
 "cells": [
  {
   "cell_type": "code",
   "execution_count": 1,
   "metadata": {},
   "outputs": [],
   "source": [
    "import pickle\n",
    "import torch"
   ]
  },
  {
   "cell_type": "code",
   "execution_count": 2,
   "metadata": {},
   "outputs": [],
   "source": [
    "def readgold(path):\n",
    "    pairs = open(path, 'r').readlines()\n",
    "    pairs = [[int(p) for p in ps.split('\\t')] for ps in pairs]\n",
    "    return torch.LongTensor(pairs)"
   ]
  },
  {
   "cell_type": "code",
   "execution_count": 3,
   "metadata": {},
   "outputs": [],
   "source": [
    "def maxfp_heuristic(scores, preds, gold):\n",
    "    tp_first_score = scores[gold[:,0],0][preds[gold[:,0],0] == gold[:,1]]\n",
    "    tp_second_score = scores[gold[:,0],1][preds[gold[:,0],0] == gold[:,1]]\n",
    "    fp_second_score = scores[gold[:,0],1][preds[gold[:,0],0] != gold[:,1]]\n",
    "    fp_first_score = scores[gold[:,0],0][preds[gold[:,0],0] != gold[:,1]]\n",
    "    tp_diff = tp_first_score - tp_second_score\n",
    "    fp_diff = fp_first_score - fp_second_score\n",
    "    thresh = max(fp_diff)\n",
    "    return thresh"
   ]
  },
  {
   "cell_type": "code",
   "execution_count": 4,
   "metadata": {},
   "outputs": [],
   "source": [
    "def f1score(scores, preds, gold, thresh):\n",
    "    diff = scores[:,0] - scores[:,1]\n",
    "    predictions = -torch.ones(len(preds)).long()\n",
    "    predictions[diff > thresh] = preds[diff > thresh,0]\n",
    "    gt = -torch.ones(len(preds)).long()\n",
    "    gt[gold[:,0]] = gold[:,1]\n",
    "    precision = (predictions == gt).float().mean()\n",
    "    tp = (predictions[gold[:,0]] != -1).sum()\n",
    "    fp = (predictions[gold[:,0]] == -1).sum()\n",
    "    recall = tp.float()/(tp+fp)\n",
    "    f1 = 2*precision*recall/(precision+recall)\n",
    "    return precision, recall, f1\n",
    "\n",
    "def print_performance(scores, preds, gold, usethresh):\n",
    "    if usethresh:\n",
    "        prec, rec, f1 = f1score(scores, preds, gold, usethresh)\n",
    "        print(\"thresh: %.2f, precision: %.2f, recall: %.2f, f1: %.2f\" %(usethresh, prec, rec, f1))\n",
    "        return\n",
    "    for thr in torch.arange(0,0.2,0.01):\n",
    "        prec, rec, f1 = f1score(scores, preds, gold, thr.item())\n",
    "        print(\"thresh: %.2f, precision: %.2f, recall: %.2f, f1: %.2f\" %(thr.item(), prec, rec, f1))\n"
   ]
  },
  {
   "cell_type": "code",
   "execution_count": 5,
   "metadata": {},
   "outputs": [],
   "source": [
    "goldfile = 'bucc2018.ru-en.gold'\n",
    "predfile = 'ru-en.training.scores.csls'\n",
    "gold = readgold(goldfile)\n",
    "scores, preds = pickle.load(open(predfile, 'rb'))\n",
    "scores, preds = scores.squeeze(), preds.squeeze()"
   ]
  },
  {
   "cell_type": "code",
   "execution_count": 6,
   "metadata": {},
   "outputs": [
    {
     "name": "stdout",
     "output_type": "stream",
     "text": [
      "thresh: 0.00, precision: 0.03, recall: 1.00, f1: 0.06\n",
      "thresh: 0.01, precision: 0.38, recall: 0.91, f1: 0.53\n",
      "thresh: 0.02, precision: 0.60, recall: 0.85, f1: 0.70\n",
      "thresh: 0.03, precision: 0.74, recall: 0.80, f1: 0.77\n",
      "thresh: 0.04, precision: 0.83, recall: 0.75, f1: 0.79\n",
      "thresh: 0.05, precision: 0.89, recall: 0.72, f1: 0.80\n",
      "thresh: 0.06, precision: 0.93, recall: 0.68, f1: 0.79\n",
      "thresh: 0.07, precision: 0.95, recall: 0.65, f1: 0.77\n",
      "thresh: 0.08, precision: 0.96, recall: 0.61, f1: 0.75\n",
      "thresh: 0.09, precision: 0.97, recall: 0.58, f1: 0.72\n",
      "thresh: 0.10, precision: 0.97, recall: 0.54, f1: 0.69\n",
      "thresh: 0.11, precision: 0.98, recall: 0.50, f1: 0.66\n",
      "thresh: 0.12, precision: 0.98, recall: 0.46, f1: 0.62\n",
      "thresh: 0.13, precision: 0.98, recall: 0.42, f1: 0.59\n",
      "thresh: 0.14, precision: 0.98, recall: 0.38, f1: 0.55\n",
      "thresh: 0.15, precision: 0.98, recall: 0.34, f1: 0.51\n",
      "thresh: 0.16, precision: 0.98, recall: 0.31, f1: 0.47\n",
      "thresh: 0.17, precision: 0.98, recall: 0.27, f1: 0.43\n",
      "thresh: 0.18, precision: 0.98, recall: 0.24, f1: 0.39\n",
      "thresh: 0.19, precision: 0.97, recall: 0.21, f1: 0.34\n"
     ]
    }
   ],
   "source": [
    "print_performance(scores, preds, gold, None)"
   ]
  },
  {
   "cell_type": "markdown",
   "metadata": {},
   "source": [
    "thresh = .06"
   ]
  },
  {
   "cell_type": "code",
   "execution_count": 264,
   "metadata": {},
   "outputs": [
    {
     "name": "stdout",
     "output_type": "stream",
     "text": [
      "thresh: 0.06, precision: 0.97, recall: 0.73, f1: 0.83\n"
     ]
    }
   ],
   "source": [
    "print_performance(scores, preds, gold, 0.06)"
   ]
  },
  {
   "cell_type": "code",
   "execution_count": null,
   "metadata": {},
   "outputs": [],
   "source": []
  }
 ],
 "metadata": {
  "kernelspec": {
   "display_name": "Python 3",
   "language": "python",
   "name": "python3"
  },
  "language_info": {
   "codemirror_mode": {
    "name": "ipython",
    "version": 3
   },
   "file_extension": ".py",
   "mimetype": "text/x-python",
   "name": "python",
   "nbconvert_exporter": "python",
   "pygments_lexer": "ipython3",
   "version": "3.6.9"
  }
 },
 "nbformat": 4,
 "nbformat_minor": 2
}
